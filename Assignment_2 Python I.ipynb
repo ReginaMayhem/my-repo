{
 "cells": [
  {
   "cell_type": "markdown",
   "metadata": {
    "nbgrader": {
     "grade": false,
     "locked": false,
     "solution": false
    },
    "slideshow": {
     "slide_type": "-"
    }
   },
   "source": [
    "# <span style=\"color:blue\">Programming for Data Science - DS-GA 1007</span>\n",
    "## <span style=\"color:blue\">Assignment 2</span>"
   ]
  },
  {
   "cell_type": "markdown",
   "metadata": {},
   "source": [
    "## 1. Function return value\n",
    "\n",
    "This exercise is to show you how function return values work. Run the code below to see what happens."
   ]
  },
  {
   "cell_type": "code",
   "execution_count": 1,
   "metadata": {
    "nbgrader": {
     "grade": false,
     "grade_id": "Q1A",
     "locked": true,
     "solution": false
    }
   },
   "outputs": [
    {
     "name": "stdout",
     "output_type": "stream",
     "text": [
      "5\n"
     ]
    },
    {
     "data": {
      "text/plain": [
       "5"
      ]
     },
     "execution_count": 1,
     "metadata": {},
     "output_type": "execute_result"
    }
   ],
   "source": [
    "def f1(x):\n",
    "    print(x + 1)\n",
    "\n",
    "def f2(x):\n",
    "    return(x + 1)\n",
    "\n",
    "f1(4)\n",
    "f2(4)"
   ]
  },
  {
   "cell_type": "markdown",
   "metadata": {},
   "source": [
    "Each function should produce the same output. Now run the following code."
   ]
  },
  {
   "cell_type": "code",
   "execution_count": null,
   "metadata": {},
   "outputs": [],
   "source": [
    "f1(4) + 1\n",
    "f2(4) + 1"
   ]
  },
  {
   "cell_type": "markdown",
   "metadata": {},
   "source": [
    "__Question__: Explain what is happening and why you get the error message."
   ]
  },
  {
   "cell_type": "markdown",
   "metadata": {},
   "source": [
    "<span style=\"color:gray\">(Place your answer in this markdown cell)</span><br>\n",
    "__Answer__:"
   ]
  },
  {
   "cell_type": "markdown",
   "metadata": {},
   "source": [
    "---\n",
    "## 2. Function operation"
   ]
  },
  {
   "cell_type": "markdown",
   "metadata": {},
   "source": [
    "Consider the following piece of code:\n",
    "\n",
    "```python\n",
    "def f(x):\n",
    "    if x == 0 or x == 1:\n",
    "        return x\n",
    "    return f(x - 1) + f(x - 2)\n",
    "```"
   ]
  },
  {
   "cell_type": "markdown",
   "metadata": {},
   "source": [
    "__Question__: Describe, in words, what this code does, and how it does it."
   ]
  },
  {
   "cell_type": "markdown",
   "metadata": {},
   "source": [
    "<span style=\"color:gray\">(Place your answer in this markdown cell)</span><br>\n",
    "__Answer:__"
   ]
  },
  {
   "cell_type": "markdown",
   "metadata": {},
   "source": [
    "__Question__: For what inputs will this function not behave as expected? What will happen?"
   ]
  },
  {
   "cell_type": "markdown",
   "metadata": {},
   "source": [
    "<span style=\"color:gray\">(Place your answer in this markdown cell)</span><br>\n",
    "__Answer:__"
   ]
  },
  {
   "cell_type": "markdown",
   "metadata": {
    "slideshow": {
     "slide_type": "-"
    }
   },
   "source": [
    "---\n",
    "## 3. Defining a function\n",
    "\n",
    "The following program plays the game of \"Rock, Paper, and Scissors\". Familiarize yourself with it in order to understand how it works. Try running the program."
   ]
  },
  {
   "cell_type": "code",
   "execution_count": null,
   "metadata": {
    "nbgrader": {
     "grade": false,
     "grade_id": "Q3A",
     "locked": true,
     "solution": false
    },
    "slideshow": {
     "slide_type": "-"
    }
   },
   "outputs": [],
   "source": [
    "from random import randint\n",
    "valid_input = [\"R\", \"P\", \"S\"]\n",
    "winners = [[\"R\", \"S\"], [\"S\", \"P\"], [\"P\", \"R\"]]\n",
    "\n",
    "print(\"You are playing a Rock, Paper, Scissors simulation.\")\n",
    "user_choice = input(\"Select R for rock, P for Paper, S for scissors, Q to quit\\n> \")\n",
    "user_choice = user_choice.upper()\n",
    "\n",
    "while user_choice != 'Q':\n",
    "    if user_choice not in valid_input:\n",
    "        print(\"Error: invalid input -- \" + user_choice)\n",
    "        break\n",
    "    \n",
    "    computer_choice = valid_input[randint(0, len(valid_input)-1)]\n",
    "    print(\"Computer chooses \" + computer_choice)\n",
    "\n",
    "    if user_choice == computer_choice:\n",
    "        print(\"Tie Game\")\n",
    "    elif [user_choice, computer_choice] in winners:\n",
    "        print(\"You win!\")\n",
    "    else:\n",
    "        print(\"Computer wins!\")\n",
    "    \n",
    "    user_choice = input(\"Select R for rock, P for Paper, S for scissors, Q to quit\\n> \")\n",
    "    user_choice = user_choice.upper()"
   ]
  },
  {
   "cell_type": "markdown",
   "metadata": {
    "slideshow": {
     "slide_type": "-"
    }
   },
   "source": [
    "Recall how we define a function using `def`, and how we pass in parameters. Transform the code into a function called `rps` that takes two parameters: `user_choice` and `computer_choice`, with valid inputs `'R'`, `'P'`, and `'S'`. Your function should return `'D'` for a tie, `'W'` if `user_choice` wins, and `'L'` if `user_choice` loses."
   ]
  },
  {
   "cell_type": "code",
   "execution_count": null,
   "metadata": {
    "nbgrader": {
     "grade": false,
     "grade_id": "Q3B",
     "locked": false,
     "solution": true
    }
   },
   "outputs": [],
   "source": [
    "from random import randint\n",
    "valid_input = [\"R\", \"P\", \"S\"]\n",
    "winners = [[\"R\", \"S\"], [\"S\", \"P\"], [\"P\", \"R\"]]\n",
    "\n",
    "### BEGIN SOLUTION\n",
    "\n",
    "### END SOLUTION\n",
    "\n",
    "print(\"You are playing a Rock, Paper, Scissors simulation.\")\n",
    "user_choice = input(\"Select R for rock, P for Paper, S for scissors, Q to quit\\n> \")\n",
    "user_choice = user_choice.upper()\n",
    "\n",
    "while user_choice != 'Q':\n",
    "    if user_choice not in valid_input:\n",
    "        print(\"Error: invalid input -- \" + user_choice)\n",
    "        break\n",
    "    \n",
    "    computer_choice = valid_input[randint(0, len(valid_input)-1)]\n",
    "    print(\"Computer chooses \" + computer_choice)\n",
    "\n",
    "    result = rps(user_choice, computer_choice)\n",
    "    if result == 'D':\n",
    "        print(\"Tie Game\")\n",
    "    elif result == 'W':\n",
    "        print(\"You win!\")\n",
    "    else:\n",
    "        print(\"Computer wins!\")\n",
    "    \n",
    "    user_choice = input(\"Select R for rock, P for Paper, S for scissors, Q to quit\\n> \")\n",
    "    user_choice = user_choice.upper()"
   ]
  },
  {
   "cell_type": "markdown",
   "metadata": {},
   "source": [
    "If your code is correct, the asserts below will result in no messages."
   ]
  },
  {
   "cell_type": "code",
   "execution_count": 4,
   "metadata": {
    "nbgrader": {
     "grade": true,
     "grade_id": "Q3C",
     "locked": true,
     "points": 1,
     "solution": false
    }
   },
   "outputs": [],
   "source": [
    "from nose.tools import assert_equal\n",
    "assert_equal(rps('R', 'R'), 'D')\n",
    "assert_equal(rps('R', 'P'), 'L')\n",
    "assert_equal(rps('R', 'S'), 'W')\n",
    "assert_equal(rps('P', 'R'), 'W')\n",
    "assert_equal(rps('P', 'P'), 'D')\n",
    "assert_equal(rps('P', 'S'), 'L')\n",
    "assert_equal(rps('S', 'R'), 'L')\n",
    "assert_equal(rps('S', 'P'), 'W')\n",
    "assert_equal(rps('S', 'S'), 'D')"
   ]
  },
  {
   "cell_type": "markdown",
   "metadata": {},
   "source": [
    "---\n",
    "## 4. List of Tuples"
   ]
  },
  {
   "cell_type": "markdown",
   "metadata": {},
   "source": [
    "Given a list of non-empty tuples, return a list sorted in increasing order by the last element in each tuple. \n",
    "\n",
    "For example: `[(1, 7), (1, 3), (3, 4, 5), (2, 2)]` yields `[(2, 2), (1, 3), (3, 4, 5), (1, 7)]`"
   ]
  },
  {
   "cell_type": "code",
   "execution_count": 9,
   "metadata": {
    "nbgrader": {
     "grade": false,
     "grade_id": "Q4A",
     "locked": false,
     "solution": true
    }
   },
   "outputs": [
    {
     "name": "stdout",
     "output_type": "stream",
     "text": [
      "[(2, 1), (3, 2), (1, 3)]\n"
     ]
    }
   ],
   "source": [
    "def sort_tuple_list(tuple_list):\n",
    "    '''Function to sort a list of non-empty tuples in increasing \n",
    "       order by the last element in each tuple\n",
    "    '''\n",
    "    ### BEGIN SOLUTION\n",
    "    \n",
    "    ### END SOLUTION"
   ]
  },
  {
   "cell_type": "code",
   "execution_count": 10,
   "metadata": {
    "nbgrader": {
     "grade": true,
     "grade_id": "Q4B",
     "locked": true,
     "points": 1,
     "solution": false
    }
   },
   "outputs": [],
   "source": [
    "from nose.tools import assert_equal\n",
    "assert_equal(sort_tuple_list([(1, 3), (3, 2), (2, 1)]), [(2, 1), (3, 2), (1, 3)])\n",
    "assert_equal(sort_tuple_list([(2, 3), (1, 1), (3, 2)]), [(1, 1), (3, 2), (2, 3)])\n",
    "assert_equal(sort_tuple_list([(1, 7), (1, 3), (3, 4, 5), (2, 2)]), [(2, 2), (1, 3), (3, 4, 5), (1, 7)])"
   ]
  },
  {
   "cell_type": "markdown",
   "metadata": {},
   "source": [
    "---\n",
    "## 5. Merging Sorted Lists"
   ]
  },
  {
   "cell_type": "markdown",
   "metadata": {},
   "source": [
    "Given two lists sorted in increasing order, create and return a merged list of all the elements in sorted order. You may modify the passed in lists. Ideally, the solution should work in \"linear\" time, making a single pass of both lists."
   ]
  },
  {
   "cell_type": "code",
   "execution_count": 14,
   "metadata": {
    "nbgrader": {
     "grade": false,
     "grade_id": "Q5A",
     "locked": false,
     "solution": true
    }
   },
   "outputs": [],
   "source": [
    "def linear_merge(list1, list2):\n",
    "    '''Given two lists sorted in increasing order, create and \n",
    "       return a merged list of all the elements in sorted order\n",
    "    '''\n",
    "    ### BEGIN SOLUTION\n",
    "    \n",
    "    ### END SOLUTION"
   ]
  },
  {
   "cell_type": "code",
   "execution_count": 15,
   "metadata": {
    "nbgrader": {
     "grade": true,
     "grade_id": "Q5B",
     "locked": true,
     "points": 1,
     "solution": false
    }
   },
   "outputs": [],
   "source": [
    "from nose.tools import assert_equal\n",
    "assert_equal(linear_merge(['aa', 'xx', 'zz'], ['bb', 'cc']), ['aa', 'bb', 'cc', 'xx', 'zz'])\n",
    "assert_equal(linear_merge(['aa', 'xx'], ['bb', 'cc', 'zz']), ['aa', 'bb', 'cc', 'xx', 'zz'])\n",
    "assert_equal(linear_merge(['aa', 'aa'], ['aa', 'bb', 'bb']), ['aa', 'aa', 'aa', 'bb', 'bb'])"
   ]
  },
  {
   "cell_type": "markdown",
   "metadata": {},
   "source": [
    "# 6. Built-in Operator"
   ]
  },
  {
   "cell_type": "markdown",
   "metadata": {},
   "source": [
    "Imagine that Python doesn’t have the `!=` (not equal) operator built in. Write a function that takes two parameters and gives the same result as the `!=` operator. Obviously, you cannot use `!=` within your function! Test if your code works by thinking of examples and making sure the output is the same for your new method as `!=` gives you."
   ]
  },
  {
   "cell_type": "code",
   "execution_count": 16,
   "metadata": {
    "nbgrader": {
     "grade": false,
     "grade_id": "Q6A",
     "locked": false,
     "solution": true
    }
   },
   "outputs": [],
   "source": [
    "def not_equal(val1, val2):\n",
    "    ''' User supplied version of the != operator, \n",
    "        implemeted without using !=\n",
    "    '''\n",
    "    ### BEGIN SOLUTION\n",
    "\n",
    "    ### END SOLUTION"
   ]
  },
  {
   "cell_type": "code",
   "execution_count": 17,
   "metadata": {
    "nbgrader": {
     "grade": true,
     "grade_id": "Q6B",
     "locked": true,
     "points": 1,
     "solution": false
    }
   },
   "outputs": [],
   "source": [
    "from nose.tools import assert_true, assert_false\n",
    "assert_true(not_equal(2,3))\n",
    "assert_false(not_equal(3,3))\n",
    "assert_true(not_equal('3',3))\n",
    "assert_true(not_equal((1,2),[1,2]))\n",
    "assert_false(not_equal((3,4),(3,4)))"
   ]
  },
  {
   "cell_type": "markdown",
   "metadata": {},
   "source": [
    "## 7. Quadratic Formula"
   ]
  },
  {
   "cell_type": "markdown",
   "metadata": {},
   "source": [
    "A quadratic equation is a second order polynomial with three coefficients a, b, and c. It is given by:\n",
    "\n",
    "$$ax^2 + bx + c = 0$$\n",
    "\n",
    "The solutions to the equation are given by the formulas:\n",
    "\n",
    "$$x_1 = \\frac{-b + \\sqrt{b^2 - 4ac}}{2a}$$\n",
    "\n",
    "and\n",
    "\n",
    "$$x_2 = \\frac{-b - \\sqrt{b^2 - 4ac}}{2a}$$\n",
    "\n"
   ]
  },
  {
   "cell_type": "markdown",
   "metadata": {},
   "source": [
    "Write a function that computes the roots of a quadratic equation and returns them as a tuple $(x_1,x_2)$. Your function should take three parameters, a, b, and c. If only one soluction exists, return $(x_1,None)$. If not solution exists or all coefficients are equal zero return $(None,None)$. Note that if\n",
    "\n",
    "$$b^2 - 4ac < 0$$ \n",
    "\n",
    "then the roots will be complex. Hint: remember that Python has a built-in complex data type."
   ]
  },
  {
   "cell_type": "code",
   "execution_count": 21,
   "metadata": {
    "nbgrader": {
     "grade": false,
     "grade_id": "Q7A",
     "locked": false,
     "solution": true
    }
   },
   "outputs": [],
   "source": [
    "def roots(a, b, c):\n",
    "    ''' Computes the roots of the quadratic equation with \n",
    "        coefficients a, b, c, and returns them as a tuple (x1, x2)\n",
    "    '''\n",
    "    ### BEGIN SOLUTION\n",
    "    \n",
    "    ### END SOLUTION"
   ]
  },
  {
   "cell_type": "code",
   "execution_count": 22,
   "metadata": {
    "nbgrader": {
     "grade": true,
     "grade_id": "Q7B",
     "locked": true,
     "points": 2,
     "solution": false
    }
   },
   "outputs": [],
   "source": [
    "from nose.tools import assert_equal\n",
    "assert_equal(roots(1,2,3), ((-1+1.4142135623730951j), (-1-1.4142135623730951j)))\n",
    "assert_equal(roots(0,0,4), (None, None))\n",
    "assert_equal(roots(0,1,2), (-2, None))\n",
    "assert_equal(roots(-4,3,2), (-0.42539052967910607, 1.175390529679106))"
   ]
  },
  {
   "cell_type": "markdown",
   "metadata": {},
   "source": [
    "## 8. The Game of Nims \n",
    "(extra credit)"
   ]
  },
  {
   "cell_type": "markdown",
   "metadata": {
    "collapsed": true,
    "nbgrader": {
     "grade": false,
     "grade_id": "import_5",
     "locked": false,
     "points": 1,
     "solution": false
    }
   },
   "source": [
    "In this game, two players sit in front of a pile of 100 stones. They take turns, each removing between 1 and 5 stones (assuming there are at least 5 stones left in the pile). The person who removes the last stone(s) wins.\n",
    "\n",
    "In this problem, you’ll write a function to play this game. It may seem tricky, so break it down into parts. Like many programs, we have to use nested loops (one loop inside another). In the outermost loop, we want to keep playing until we are out of stones. Inside that, we want to keep alternating players. You have the option of either writing two blocks of code, or keeping a variable that tracks the current player.\n",
    "\n",
    "We are going to use the `input` function to obtain the user's move. We might want to have an innermost loop that checks if the user’s input is valid. Is it a number? Is it a valid number (e.g. between 1 and 5)? Are there enough stones in the pile to take off this many? If any of these answers are no, we should tell the user and re-ask them the question.\n",
    "\n",
    "If you choose to write two blocks of code, the basic outline of the program should be something like this:\n",
    "\n",
    "    while [pile is not empty]:\n",
    "       while [player 1’s answer is not valid]:\n",
    "          [ask player 1]\n",
    "       [execute player 1’s move]\n",
    "       [same as above for player 2]\n",
    "       \n",
    "Be careful with the validity checks. Specifically, we want to keep asking player 1 for their choice as long as their answer is not valid, BUT we want to make sure we ask them at least ONCE. So, for example, we will want to keep a variable that tracks whether their answer is valid, and set it to `False` initially.\n",
    "\n",
    "There is no need to limit yourself to only one function! Use as many functions as you want in order to make the code more readable and modular.\n",
    "\n",
    "When you're finished, test each other's programs by playing them!"
   ]
  },
  {
   "cell_type": "code",
   "execution_count": null,
   "metadata": {
    "collapsed": true,
    "nbgrader": {
     "grade": true,
     "grade_id": "Q8A",
     "locked": false,
     "points": 4,
     "solution": true
    }
   },
   "outputs": [],
   "source": [
    "def play_nims(pile, max_stones):\n",
    "    '''\n",
    "    An interactive two-person game; also known as Stones.\n",
    "    pile: the number of stones in the pile to start\n",
    "    max_stones: the maximum number of stones you can \n",
    "    take in one turn\n",
    "    '''\n",
    "\n",
    "## Basic structure of program (feel free to alter as you please):\n",
    "\n",
    "#    while [pile is not empty]:\n",
    "#        while [player 1's answer is not valid]:\n",
    "#            [ask player 1]\n",
    "#            [execute player 1's move]\n",
    "#       \n",
    "#        while [player 2's answer is not valid]:\n",
    "#            [ask player 2]\n",
    "#            [execute player 2's move]\n",
    "#\n",
    "#    print \"Game over\"\n",
    "### BEGIN SOLUTION\n",
    "### GRADER INSTRUCTIONS\n",
    "## Verify that their program correctly plays the game by running it. Try various values to ensure they are checking\n",
    "## for valid inputs. \n",
    "## Award 1 mark for basic structure\n",
    "## Award 1 mark if they validate input correctly\n",
    "## Award 1 mark if the program correctly responds to invalid input by reasking\n",
    "## Award 1 mark if they use more than one function\n",
    "### END SOLUTION"
   ]
  }
 ],
 "metadata": {
  "anaconda-cloud": {},
  "celltoolbar": "Create Assignment",
  "kernelspec": {
   "display_name": "Python 3",
   "language": "python",
   "name": "python3"
  },
  "language_info": {
   "codemirror_mode": {
    "name": "ipython",
    "version": 3
   },
   "file_extension": ".py",
   "mimetype": "text/x-python",
   "name": "python",
   "nbconvert_exporter": "python",
   "pygments_lexer": "ipython3",
   "version": "3.6.1"
  }
 },
 "nbformat": 4,
 "nbformat_minor": 1
}
